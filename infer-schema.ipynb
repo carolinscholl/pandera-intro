{
 "cells": [
  {
   "cell_type": "code",
   "execution_count": 3,
   "metadata": {
    "collapsed": true
   },
   "outputs": [],
   "source": [
    "import os\n",
    "\n",
    "import pandas as pd\n",
    "import pandera as pa"
   ]
  },
  {
   "cell_type": "code",
   "execution_count": 4,
   "outputs": [
    {
     "name": "stdout",
     "output_type": "stream",
     "text": [
      "<Schema DataFrameSchema(\n",
      "    columns={\n",
      "        'var_bool': <Schema Column(name=var_bool, type=DataType(float64))>\n",
      "        'var_sint': <Schema Column(name=var_sint, type=DataType(float64))>\n",
      "        'var_uint': <Schema Column(name=var_uint, type=DataType(int64))>\n",
      "        'var_sfloat': <Schema Column(name=var_sfloat, type=DataType(float64))>\n",
      "        'var_ufloat': <Schema Column(name=var_ufloat, type=DataType(float64))>\n",
      "        'var_const': <Schema Column(name=var_const, type=DataType(object))>\n",
      "        'var_str': <Schema Column(name=var_str, type=DataType(object))>\n",
      "        'var_date': <Schema Column(name=var_date, type=DataType(object))>\n",
      "        'var_cat': <Schema Column(name=var_cat, type=DataType(object))>\n",
      "        'var_age': <Schema Column(name=var_age, type=DataType(int64))>\n",
      "    },\n",
      "    checks=[],\n",
      "    coerce=True,\n",
      "    dtype=None,\n",
      "    index=<Schema Index(name=None, type=DataType(int64))>,\n",
      "    strict=False,\n",
      "    name=None,\n",
      "    ordered=False,\n",
      "    unique_column_names=False,\n",
      "    metadata=None, \n",
      "    add_missing_columns=False\n",
      ")>\n"
     ]
    }
   ],
   "source": [
    "df = pd.read_csv(os.path.join(\"dummy-data\", \"dummy.csv\"))\n",
    "schema = pa.infer_schema(df)\n",
    "print(schema)"
   ],
   "metadata": {
    "collapsed": false
   }
  },
  {
   "cell_type": "code",
   "execution_count": 6,
   "outputs": [],
   "source": [
    "schema.to_script(\"dummy-schema.py\")"
   ],
   "metadata": {
    "collapsed": false
   }
  },
  {
   "cell_type": "code",
   "execution_count": null,
   "outputs": [],
   "source": [],
   "metadata": {
    "collapsed": false
   }
  }
 ],
 "metadata": {
  "kernelspec": {
   "display_name": "Python 3",
   "language": "python",
   "name": "python3"
  },
  "language_info": {
   "codemirror_mode": {
    "name": "ipython",
    "version": 2
   },
   "file_extension": ".py",
   "mimetype": "text/x-python",
   "name": "python",
   "nbconvert_exporter": "python",
   "pygments_lexer": "ipython2",
   "version": "2.7.6"
  }
 },
 "nbformat": 4,
 "nbformat_minor": 0
}
