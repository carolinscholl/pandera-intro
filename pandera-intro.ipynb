{
 "cells": [
  {
   "cell_type": "code",
   "execution_count": 58,
   "metadata": {
    "collapsed": true
   },
   "outputs": [],
   "source": [
    "import os\n",
    "\n",
    "import pandas as pd\n",
    "import pandera as pa"
   ]
  },
  {
   "cell_type": "markdown",
   "source": [
    "Welcome to this mini-tutorial on the python library pandera. Pandera lets you validate dataframe objects against specified pandera schemas. This can be easily integrated into your data pipelines in order to continuously test your data, spot data errors, and generally support data quality monitoring.\n",
    "\n",
    "Let us start by reading in a small dataframe. Its column names should already give you a hint on each intended data type."
   ],
   "metadata": {
    "collapsed": false
   }
  },
  {
   "cell_type": "code",
   "execution_count": 59,
   "outputs": [],
   "source": [
    "df = pd.read_csv(os.path.join(\"dummy-data\", \"dummy.csv\"))"
   ],
   "metadata": {
    "collapsed": false
   }
  },
  {
   "cell_type": "code",
   "execution_count": 60,
   "outputs": [
    {
     "data": {
      "text/plain": "    var_bool  var_signed_int  var_unsigned_int  var_float var_str    var_date  \\\n0       True               2                 2       -3.5    this  12.02.1992   \n1      False               3                 3        2.7      is  01.03.1989   \n2       True              -4                 4        4.6       a  13.05.2006   \n3      False             -10                 5     -100.7    test  11.12.2022   \n4       True             200                 6        NaN   hello  02.04.1987   \n5      False               1                 7        4.3      hi  14.03.1996   \n6       True               2                 8        4.3      hi  12.02.1992   \n7       True              -2                 9        4.3      hi  01.03.1989   \n8       True              -3                 0        4.3      hi  13.05.2006   \n9      False              -4                 1        4.3      hi  25.08.2009   \n10      True            -200                10        4.3      hi  06.10.2023   \n11      True              -5                20        4.3      hi  14.03.1996   \n12     False               1                 7        4.3      hi  14.03.1996   \n\n          var_timestamp var_categorical var_constant  \n0   1994-10-21 04:03:37               a            a  \n1   2017-05-03 01:35:46               b            a  \n2   1981-10-23 06:55:57               b            a  \n3   2013-04-12 11:44:26               a            a  \n4   2001-04-29 16:04:09               a            a  \n5   1997-01-17 09:16:10               b            a  \n6   1961-10-29 11:12:22               b            a  \n7   1978-07-11 08:32:47               a            a  \n8   2018-10-16 12:32:45               b            a  \n9   2012-05-01 06:50:06               b            a  \n10  1993-07-09 13:09:51               b            a  \n11  1978-08-22 22:19:36               b            a  \n12  1957-10-16 19:06:40               b            a  ",
      "text/html": "<div>\n<style scoped>\n    .dataframe tbody tr th:only-of-type {\n        vertical-align: middle;\n    }\n\n    .dataframe tbody tr th {\n        vertical-align: top;\n    }\n\n    .dataframe thead th {\n        text-align: right;\n    }\n</style>\n<table border=\"1\" class=\"dataframe\">\n  <thead>\n    <tr style=\"text-align: right;\">\n      <th></th>\n      <th>var_bool</th>\n      <th>var_signed_int</th>\n      <th>var_unsigned_int</th>\n      <th>var_float</th>\n      <th>var_str</th>\n      <th>var_date</th>\n      <th>var_timestamp</th>\n      <th>var_categorical</th>\n      <th>var_constant</th>\n    </tr>\n  </thead>\n  <tbody>\n    <tr>\n      <th>0</th>\n      <td>True</td>\n      <td>2</td>\n      <td>2</td>\n      <td>-3.5</td>\n      <td>this</td>\n      <td>12.02.1992</td>\n      <td>1994-10-21 04:03:37</td>\n      <td>a</td>\n      <td>a</td>\n    </tr>\n    <tr>\n      <th>1</th>\n      <td>False</td>\n      <td>3</td>\n      <td>3</td>\n      <td>2.7</td>\n      <td>is</td>\n      <td>01.03.1989</td>\n      <td>2017-05-03 01:35:46</td>\n      <td>b</td>\n      <td>a</td>\n    </tr>\n    <tr>\n      <th>2</th>\n      <td>True</td>\n      <td>-4</td>\n      <td>4</td>\n      <td>4.6</td>\n      <td>a</td>\n      <td>13.05.2006</td>\n      <td>1981-10-23 06:55:57</td>\n      <td>b</td>\n      <td>a</td>\n    </tr>\n    <tr>\n      <th>3</th>\n      <td>False</td>\n      <td>-10</td>\n      <td>5</td>\n      <td>-100.7</td>\n      <td>test</td>\n      <td>11.12.2022</td>\n      <td>2013-04-12 11:44:26</td>\n      <td>a</td>\n      <td>a</td>\n    </tr>\n    <tr>\n      <th>4</th>\n      <td>True</td>\n      <td>200</td>\n      <td>6</td>\n      <td>NaN</td>\n      <td>hello</td>\n      <td>02.04.1987</td>\n      <td>2001-04-29 16:04:09</td>\n      <td>a</td>\n      <td>a</td>\n    </tr>\n    <tr>\n      <th>5</th>\n      <td>False</td>\n      <td>1</td>\n      <td>7</td>\n      <td>4.3</td>\n      <td>hi</td>\n      <td>14.03.1996</td>\n      <td>1997-01-17 09:16:10</td>\n      <td>b</td>\n      <td>a</td>\n    </tr>\n    <tr>\n      <th>6</th>\n      <td>True</td>\n      <td>2</td>\n      <td>8</td>\n      <td>4.3</td>\n      <td>hi</td>\n      <td>12.02.1992</td>\n      <td>1961-10-29 11:12:22</td>\n      <td>b</td>\n      <td>a</td>\n    </tr>\n    <tr>\n      <th>7</th>\n      <td>True</td>\n      <td>-2</td>\n      <td>9</td>\n      <td>4.3</td>\n      <td>hi</td>\n      <td>01.03.1989</td>\n      <td>1978-07-11 08:32:47</td>\n      <td>a</td>\n      <td>a</td>\n    </tr>\n    <tr>\n      <th>8</th>\n      <td>True</td>\n      <td>-3</td>\n      <td>0</td>\n      <td>4.3</td>\n      <td>hi</td>\n      <td>13.05.2006</td>\n      <td>2018-10-16 12:32:45</td>\n      <td>b</td>\n      <td>a</td>\n    </tr>\n    <tr>\n      <th>9</th>\n      <td>False</td>\n      <td>-4</td>\n      <td>1</td>\n      <td>4.3</td>\n      <td>hi</td>\n      <td>25.08.2009</td>\n      <td>2012-05-01 06:50:06</td>\n      <td>b</td>\n      <td>a</td>\n    </tr>\n    <tr>\n      <th>10</th>\n      <td>True</td>\n      <td>-200</td>\n      <td>10</td>\n      <td>4.3</td>\n      <td>hi</td>\n      <td>06.10.2023</td>\n      <td>1993-07-09 13:09:51</td>\n      <td>b</td>\n      <td>a</td>\n    </tr>\n    <tr>\n      <th>11</th>\n      <td>True</td>\n      <td>-5</td>\n      <td>20</td>\n      <td>4.3</td>\n      <td>hi</td>\n      <td>14.03.1996</td>\n      <td>1978-08-22 22:19:36</td>\n      <td>b</td>\n      <td>a</td>\n    </tr>\n    <tr>\n      <th>12</th>\n      <td>False</td>\n      <td>1</td>\n      <td>7</td>\n      <td>4.3</td>\n      <td>hi</td>\n      <td>14.03.1996</td>\n      <td>1957-10-16 19:06:40</td>\n      <td>b</td>\n      <td>a</td>\n    </tr>\n  </tbody>\n</table>\n</div>"
     },
     "execution_count": 60,
     "metadata": {},
     "output_type": "execute_result"
    }
   ],
   "source": [
    "df"
   ],
   "metadata": {
    "collapsed": false
   }
  },
  {
   "cell_type": "markdown",
   "source": [
    "However, to raise any doubts, here is the schema again:\n",
    "\n",
    "| Column/variable name | Data type                                     |\n",
    "|----------------------|-----------------------------------------------|\n",
    "| var_bool             | boolean                                       |\n",
    "| var_signed_int       | signed integer (positive and negative values) |\n",
    "| var_unsigned_int     | unsigned integer (only non-negative values)   |\n",
    "| var_float            | floating point number                         |\n",
    "| var_str              | string                                        |\n",
    "| var_date             | date                                          |\n",
    "| var_timestamp        | timestamp                                     |\n",
    "| var_categorical      | categorical                                   |\n",
    "| var_constant         | constant                                      |\n"
   ],
   "metadata": {
    "collapsed": false
   }
  },
  {
   "cell_type": "code",
   "execution_count": null,
   "outputs": [],
   "source": [
    "# DataFrameSchema.update_column"
   ],
   "metadata": {
    "collapsed": false
   }
  },
  {
   "cell_type": "markdown",
   "source": [
    "## Schema inference\n",
    "\n",
    "Imagine you have a complex dataset and you do not want to write the schema from scratch. After all, time is limited and manual processes are error-prone. Luckily, pandera comes with a function that can generate a first draft of a pandera schema."
   ],
   "metadata": {
    "collapsed": false
   }
  },
  {
   "cell_type": "code",
   "execution_count": 61,
   "outputs": [
    {
     "name": "stdout",
     "output_type": "stream",
     "text": [
      "<Schema DataFrameSchema(\n",
      "    columns={\n",
      "        'var_bool': <Schema Column(name=var_bool, type=DataType(bool))>\n",
      "        'var_signed_int': <Schema Column(name=var_signed_int, type=DataType(int64))>\n",
      "        'var_unsigned_int': <Schema Column(name=var_unsigned_int, type=DataType(int64))>\n",
      "        'var_float': <Schema Column(name=var_float, type=DataType(float64))>\n",
      "        'var_str': <Schema Column(name=var_str, type=DataType(object))>\n",
      "        'var_date': <Schema Column(name=var_date, type=DataType(object))>\n",
      "        'var_timestamp': <Schema Column(name=var_timestamp, type=DataType(object))>\n",
      "        'var_categorical': <Schema Column(name=var_categorical, type=DataType(object))>\n",
      "        'var_constant': <Schema Column(name=var_constant, type=DataType(object))>\n",
      "    },\n",
      "    checks=[],\n",
      "    coerce=True,\n",
      "    dtype=None,\n",
      "    index=<Schema Index(name=None, type=DataType(int64))>,\n",
      "    strict=False,\n",
      "    name=None,\n",
      "    ordered=False,\n",
      "    unique_column_names=False,\n",
      "    metadata=None, \n",
      "    add_missing_columns=False\n",
      ")>\n"
     ]
    }
   ],
   "source": [
    "schema = pa.infer_schema(df)\n",
    "print(schema)\n",
    "# schema.to_script(\"dummy-schema.py\")\n"
   ],
   "metadata": {
    "collapsed": false
   }
  }
 ],
 "metadata": {
  "kernelspec": {
   "display_name": "Python 3",
   "language": "python",
   "name": "python3"
  },
  "language_info": {
   "codemirror_mode": {
    "name": "ipython",
    "version": 2
   },
   "file_extension": ".py",
   "mimetype": "text/x-python",
   "name": "python",
   "nbconvert_exporter": "python",
   "pygments_lexer": "ipython2",
   "version": "2.7.6"
  }
 },
 "nbformat": 4,
 "nbformat_minor": 0
}
