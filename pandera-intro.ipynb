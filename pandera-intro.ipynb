{
 "cells": [
  {
   "cell_type": "code",
   "execution_count": 58,
   "metadata": {
    "collapsed": true
   },
   "outputs": [],
   "source": [
    "import os\n",
    "\n",
    "import pandas as pd\n",
    "import pandera as pa"
   ]
  },
  {
   "cell_type": "markdown",
   "source": [
    "Welcome to this mini-tutorial on the python library pandera. Pandera lets you validate dataframe objects against specified data schemas. This can be easily integrated into your data pipelines in order to continuously test your data, spot data errors or schema updates, and generally support data quality monitoring.\n",
    "\n",
    "Let us start by reading in a small dataframe. Its column names should already give you a hint on each intended data type."
   ],
   "metadata": {
    "collapsed": false
   }
  },
  {
   "cell_type": "code",
   "execution_count": 59,
   "outputs": [],
   "source": [
    "df = pd.read_csv(os.path.join(\"dummy-data\", \"dummy.csv\"))"
   ],
   "metadata": {
    "collapsed": false
   }
  },
  {
   "cell_type": "code",
   "execution_count": null,
   "outputs": [],
   "source": [
    "df"
   ],
   "metadata": {
    "collapsed": false,
    "pycharm": {
     "is_executing": true
    }
   }
  },
  {
   "cell_type": "markdown",
   "source": [
    "However, to raise any doubts, here is the schema again:\n",
    "\n",
    "| Column/variable name | Data type                                     |\n",
    "|----------------------|-----------------------------------------------|\n",
    "| var_bool             | boolean                                       |\n",
    "| var_signed_int       | signed integer (positive and negative values) |\n",
    "| var_unsigned_int     | unsigned integer (only non-negative values)   |\n",
    "| var_float            | floating point number                         |\n",
    "| var_str              | string                                        |\n",
    "| var_date             | date (format DD.MM.YYYY)                      |\n",
    "| var_timestamp        | timestamp (format YYYY-MM-DD hh:mm:ss)        |\n",
    "| var_categorical      | categorical                                   |\n",
    "| var_constant         | constant                                      |\n"
   ],
   "metadata": {
    "collapsed": false
   }
  },
  {
   "cell_type": "code",
   "execution_count": null,
   "outputs": [],
   "source": [
    "# DataFrameSchema.update_column"
   ],
   "metadata": {
    "collapsed": false
   }
  },
  {
   "cell_type": "markdown",
   "source": [
    "## Schema inference\n",
    "\n",
    "Imagine you have a complex dataset and you do not want to write the schema from scratch. After all, time is limited and manual processes are error-prone. Luckily, pandera comes with a function that can generate a first draft of a pandera schema."
   ],
   "metadata": {
    "collapsed": false
   }
  },
  {
   "cell_type": "code",
   "execution_count": null,
   "outputs": [],
   "source": [
    "schema = pa.infer_schema(df)\n",
    "print(schema)\n",
    "# schema.to_script(\"dummy-schema.py\")\n"
   ],
   "metadata": {
    "collapsed": false,
    "pycharm": {
     "is_executing": true
    }
   }
  },
  {
   "cell_type": "code",
   "execution_count": null,
   "outputs": [],
   "source": [],
   "metadata": {
    "collapsed": false
   }
  }
 ],
 "metadata": {
  "kernelspec": {
   "display_name": "Python 3",
   "language": "python",
   "name": "python3"
  },
  "language_info": {
   "codemirror_mode": {
    "name": "ipython",
    "version": 2
   },
   "file_extension": ".py",
   "mimetype": "text/x-python",
   "name": "python",
   "nbconvert_exporter": "python",
   "pygments_lexer": "ipython2",
   "version": "2.7.6"
  }
 },
 "nbformat": 4,
 "nbformat_minor": 0
}
